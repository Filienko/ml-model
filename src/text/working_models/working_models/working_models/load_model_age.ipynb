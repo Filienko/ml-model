{
 "cells": [
  {
   "cell_type": "code",
   "execution_count": 4,
   "metadata": {},
   "outputs": [
    {
     "name": "stderr",
     "output_type": "stream",
     "text": [
      "2023-01-28 10:24:55.801528: W tensorflow/core/framework/cpu_allocator_impl.cc:82] Allocation of 93763584 exceeds 10% of free system memory.\n"
     ]
    }
   ],
   "source": [
    "import pickle\n",
    "import tensorflow as tf\n",
    "import tensorflow_text as text\n",
    "\n",
    "reloaded_model = tf.saved_model.load(\"~/text_classifier_v1\")\n"
   ]
  },
  {
   "cell_type": "code",
   "execution_count": 15,
   "metadata": {},
   "outputs": [],
   "source": [
    "import numpy as np\n",
    "\n",
    "def predict_class(reviews):\n",
    "  '''predict class of input text\n",
    "  Args:\n",
    "    - reviews (list of strings)\n",
    "  Output:\n",
    "    - class (list of int)\n",
    "  '''\n",
    "  return [np.argmax(pred) for pred in reloaded_model.predict(reviews)]\n",
    "\n"
   ]
  },
  {
   "cell_type": "code",
   "execution_count": 16,
   "metadata": {},
   "outputs": [
    {
     "ename": "AttributeError",
     "evalue": "'_UserObject' object has no attribute 'predict'",
     "output_type": "error",
     "traceback": [
      "\u001b[0;31m---------------------------------------------------------------------------\u001b[0m",
      "\u001b[0;31mAttributeError\u001b[0m                            Traceback (most recent call last)",
      "Cell \u001b[0;32mIn[16], line 9\u001b[0m\n\u001b[1;32m      5\u001b[0m y \u001b[39m=\u001b[39m tf\u001b[39m.\u001b[39mkeras\u001b[39m.\u001b[39mutils\u001b[39m.\u001b[39mto_categorical(df[\u001b[39m\"\u001b[39m\u001b[39mage\u001b[39m\u001b[39m\"\u001b[39m]\u001b[39m.\u001b[39mvalues, num_classes\u001b[39m=\u001b[39m\u001b[39m4\u001b[39m)\n\u001b[1;32m      7\u001b[0m X_train, X_test, y_train, y_test \u001b[39m=\u001b[39m train_test_split(df[\u001b[39m'\u001b[39m\u001b[39mContent\u001b[39m\u001b[39m'\u001b[39m], y, test_size\u001b[39m=\u001b[39m\u001b[39m0.1\u001b[39m)\n\u001b[0;32m----> 9\u001b[0m predict_class(X_test)\n",
      "Cell \u001b[0;32mIn[15], line 10\u001b[0m, in \u001b[0;36mpredict_class\u001b[0;34m(reviews)\u001b[0m\n\u001b[1;32m      3\u001b[0m \u001b[39mdef\u001b[39;00m \u001b[39mpredict_class\u001b[39m(reviews):\n\u001b[1;32m      4\u001b[0m \u001b[39m  \u001b[39m\u001b[39m'''predict class of input text\u001b[39;00m\n\u001b[1;32m      5\u001b[0m \u001b[39m  Args:\u001b[39;00m\n\u001b[1;32m      6\u001b[0m \u001b[39m    - reviews (list of strings)\u001b[39;00m\n\u001b[1;32m      7\u001b[0m \u001b[39m  Output:\u001b[39;00m\n\u001b[1;32m      8\u001b[0m \u001b[39m    - class (list of int)\u001b[39;00m\n\u001b[1;32m      9\u001b[0m \u001b[39m  '''\u001b[39;00m\n\u001b[0;32m---> 10\u001b[0m   \u001b[39mreturn\u001b[39;00m [np\u001b[39m.\u001b[39margmax(pred) \u001b[39mfor\u001b[39;00m pred \u001b[39min\u001b[39;00m reloaded_model\u001b[39m.\u001b[39;49mpredict(reviews)]\n",
      "\u001b[0;31mAttributeError\u001b[0m: '_UserObject' object has no attribute 'predict'"
     ]
    }
   ],
   "source": [
    "import pandas as pd\n",
    "df = pd.read_csv(r\"age.csv\",encoding='latin1')\n",
    "from sklearn.model_selection import train_test_split\n",
    "\n",
    "y = tf.keras.utils.to_categorical(df[\"age\"].values, num_classes=4)\n",
    "\n",
    "X_train, X_test, y_train, y_test = train_test_split(df['Content'], y, test_size=0.1)\n",
    "\n",
    "predict_class(X_test)"
   ]
  },
  {
   "cell_type": "code",
   "execution_count": null,
   "metadata": {},
   "outputs": [],
   "source": []
  }
 ],
 "metadata": {
  "kernelspec": {
   "display_name": "Python 3",
   "language": "python",
   "name": "python3"
  },
  "language_info": {
   "codemirror_mode": {
    "name": "ipython",
    "version": 3
   },
   "file_extension": ".py",
   "mimetype": "text/x-python",
   "name": "python",
   "nbconvert_exporter": "python",
   "pygments_lexer": "ipython3",
   "version": "3.10.6 (main, Nov 14 2022, 16:10:14) [GCC 11.3.0]"
  },
  "orig_nbformat": 4,
  "vscode": {
   "interpreter": {
    "hash": "31f2aee4e71d21fbe5cf8b01ff0e069b9275f58929596ceb00d14d90e3e16cd6"
   }
  }
 },
 "nbformat": 4,
 "nbformat_minor": 2
}
