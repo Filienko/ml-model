{
 "cells": [
  {
   "cell_type": "code",
   "execution_count": 2,
   "metadata": {},
   "outputs": [],
   "source": [
    "import contractions\n",
    "from nltk.tokenize import RegexpTokenizer\n",
    "from nltk.stem import WordNetLemmatizer,PorterStemmer\n",
    "from nltk.corpus import stopwords\n",
    "import re\n",
    "import pandas as pd\n",
    "import contractions\n",
    "lemmatizer = WordNetLemmatizer()\n",
    "stemmer = PorterStemmer() \n",
    "\n",
    "def preprocess(sentence):\n",
    "    sentence=str(sentence)\n",
    "    sentence = sentence.lower()\n",
    "    sentence = contractions.fix(sentence)\n",
    "    cleanr = re.compile('<.*?>')\n",
    "    cleantext = re.sub(cleanr, '', sentence)\n",
    "    rem_url=re.sub(r'http\\S+', '',cleantext)\n",
    "    rem_num = re.sub('[0-9]+', '', rem_url)\n",
    "    tokenizer = RegexpTokenizer(r'\\w+')\n",
    "    tokens = tokenizer.tokenize(rem_num)  \n",
    "    filtered_words = [w for w in tokens if len(w) > 2 if not w in stopwords.words('english')]\n",
    "    stem_words=[stemmer.stem(w) for w in filtered_words]\n",
    "    lemma_words=[lemmatizer.lemmatize(w) for w in stem_words]\n",
    "    return \" \".join(lemma_words)\n",
    "        \n",
    "\n",
    "\n",
    "# Process for all messages\n",
    "df_gender = pd.read_csv(r\"big.csv\",encoding='latin1')\n",
    "preprocessed = []\n",
    "for i in range(0,9499):\n",
    "    message = df_gender['Content'].iloc[i]\n",
    "    processed_Text = preprocess(message)\n",
    "    df_gender.loc[i, 'Content'] = processed_Text\n",
    "    preprocessed.append(str(processed_Text))\n",
    "\n",
    "# Process for all messages\n",
    "df_age = pd.read_csv(r\"age.csv\",encoding='latin1')\n",
    "preprocessed = []\n",
    "for i in range(0,9499):\n",
    "    message = df_age['Content'].iloc[i]\n",
    "    processed_Text = preprocess(message)\n",
    "    df_age.loc[i, 'Content'] = processed_Text\n",
    "    preprocessed.append(str(processed_Text))"
   ]
  },
  {
   "cell_type": "code",
   "execution_count": null,
   "metadata": {},
   "outputs": [],
   "source": [
    "from sklearn.naive_bayes import MultinomialNB \n",
    "from sklearn.model_selection import GridSearchCV \n",
    "from sklearn.feature_extraction.text import TfidfVectorizer \n",
    "\n",
    "\n",
    "NB = MultinomialNB()\n",
    "parameters = {'alpha':  [0.00001, 0.00005, 0.0001, 0.0005, 0.001, 0.005, 0.01, 0.05, 0.1, 0.5, 1, 5, 10, 50, 100, 500, 1000, 2500, 5000, 10000]}\n",
    "classifier = GridSearchCV(NB, parameters, cv=3, scoring='accuracy',return_train_score=True)\n",
    "vectz = TfidfVectorizer(norm = False, smooth_idf = False)\n",
    "X_tr_bow = vectz.fit_transform(X_train)\n",
    "classifier.fit(X_tr_bow, y_train)\n"
   ]
  },
  {
   "cell_type": "code",
   "execution_count": 3,
   "metadata": {},
   "outputs": [
    {
     "data": {
      "text/html": [
       "<div>\n",
       "<style scoped>\n",
       "    .dataframe tbody tr th:only-of-type {\n",
       "        vertical-align: middle;\n",
       "    }\n",
       "\n",
       "    .dataframe tbody tr th {\n",
       "        vertical-align: top;\n",
       "    }\n",
       "\n",
       "    .dataframe thead th {\n",
       "        text-align: right;\n",
       "    }\n",
       "</style>\n",
       "<table border=\"1\" class=\"dataframe\">\n",
       "  <thead>\n",
       "    <tr style=\"text-align: right;\">\n",
       "      <th></th>\n",
       "      <th>age</th>\n",
       "      <th>FileName</th>\n",
       "      <th>Content</th>\n",
       "      <th>Unnamed: 3</th>\n",
       "    </tr>\n",
       "  </thead>\n",
       "  <tbody>\n",
       "    <tr>\n",
       "      <th>0</th>\n",
       "      <td>1</td>\n",
       "      <td>0000e06e07496624211632e8e264126c.txt</td>\n",
       "      <td>paranoia settin sumbuddi go get hurt real bad ...</td>\n",
       "      <td>NaN</td>\n",
       "    </tr>\n",
       "    <tr>\n",
       "      <th>1</th>\n",
       "      <td>1</td>\n",
       "      <td>000235a2ba2f48231b7d24e1f08d7878.txt</td>\n",
       "      <td>damn game kick as today huge water fight phone...</td>\n",
       "      <td>NaN</td>\n",
       "    </tr>\n",
       "    <tr>\n",
       "      <th>2</th>\n",
       "      <td>1</td>\n",
       "      <td>000c4b6e2468f7d528876fd1a6dffd4c.txt</td>\n",
       "      <td>better conquer win thousand battl victori cann...</td>\n",
       "      <td>NaN</td>\n",
       "    </tr>\n",
       "    <tr>\n",
       "      <th>3</th>\n",
       "      <td>1</td>\n",
       "      <td>001187432d2a247562082cd0000dec40.txt</td>\n",
       "      <td>hot lol aloha everyon head soon see everyon ge...</td>\n",
       "      <td>NaN</td>\n",
       "    </tr>\n",
       "    <tr>\n",
       "      <th>4</th>\n",
       "      <td>1</td>\n",
       "      <td>001494c3b74f124a2e3435fff17f376b.txt</td>\n",
       "      <td>lord earth maker thing alon one true god make ...</td>\n",
       "      <td>NaN</td>\n",
       "    </tr>\n",
       "  </tbody>\n",
       "</table>\n",
       "</div>"
      ],
      "text/plain": [
       "   age                              FileName  \\\n",
       "0    1  0000e06e07496624211632e8e264126c.txt   \n",
       "1    1  000235a2ba2f48231b7d24e1f08d7878.txt   \n",
       "2    1  000c4b6e2468f7d528876fd1a6dffd4c.txt   \n",
       "3    1  001187432d2a247562082cd0000dec40.txt   \n",
       "4    1  001494c3b74f124a2e3435fff17f376b.txt   \n",
       "\n",
       "                                             Content Unnamed: 3  \n",
       "0  paranoia settin sumbuddi go get hurt real bad ...        NaN  \n",
       "1  damn game kick as today huge water fight phone...        NaN  \n",
       "2  better conquer win thousand battl victori cann...        NaN  \n",
       "3  hot lol aloha everyon head soon see everyon ge...        NaN  \n",
       "4  lord earth maker thing alon one true god make ...        NaN  "
      ]
     },
     "execution_count": 3,
     "metadata": {},
     "output_type": "execute_result"
    }
   ],
   "source": [
    "df_age.head(5)"
   ]
  },
  {
   "cell_type": "code",
   "execution_count": 7,
   "metadata": {},
   "outputs": [],
   "source": [
    "from sklearn.model_selection import train_test_split\n",
    "\n",
    "X_train, X_test, y_train_gender, y_test_gender = train_test_split(df_age['Content'],df_gender['gender'], random_state=42, test_size=0.1)"
   ]
  },
  {
   "cell_type": "code",
   "execution_count": 8,
   "metadata": {},
   "outputs": [],
   "source": [
    "from sklearn.model_selection import train_test_split\n",
    "\n",
    "X_train, X_test, y_train_age, y_test_age = train_test_split(df_age['Content'],df_age['age'], random_state=42, test_size=0.1)"
   ]
  },
  {
   "cell_type": "code",
   "execution_count": 9,
   "metadata": {},
   "outputs": [
    {
     "name": "stderr",
     "output_type": "stream",
     "text": [
      "/usr/local/lib/python3.10/dist-packages/sklearn/linear_model/_logistic.py:444: ConvergenceWarning: lbfgs failed to converge (status=1):\n",
      "STOP: TOTAL NO. of ITERATIONS REACHED LIMIT.\n",
      "\n",
      "Increase the number of iterations (max_iter) or scale the data as shown in:\n",
      "    https://scikit-learn.org/stable/modules/preprocessing.html\n",
      "Please also refer to the documentation for alternative solver options:\n",
      "    https://scikit-learn.org/stable/modules/linear_model.html#logistic-regression\n",
      "  n_iter_i = _check_optimize_result(\n",
      "/usr/local/lib/python3.10/dist-packages/sklearn/linear_model/_logistic.py:444: ConvergenceWarning: lbfgs failed to converge (status=1):\n",
      "STOP: TOTAL NO. of ITERATIONS REACHED LIMIT.\n",
      "\n",
      "Increase the number of iterations (max_iter) or scale the data as shown in:\n",
      "    https://scikit-learn.org/stable/modules/preprocessing.html\n",
      "Please also refer to the documentation for alternative solver options:\n",
      "    https://scikit-learn.org/stable/modules/linear_model.html#logistic-regression\n",
      "  n_iter_i = _check_optimize_result(\n"
     ]
    },
    {
     "name": "stdout",
     "output_type": "stream",
     "text": [
      "accuracy age 0.6221052631578947\n",
      "accuracy gender 0.7368421052631579\n"
     ]
    }
   ],
   "source": [
    "from sklearn.feature_extraction.text import CountVectorizer\n",
    "from sklearn.naive_bayes import MultinomialNB\n",
    "from sklearn.metrics import accuracy_score\n",
    "from sklearn.linear_model import LogisticRegression\n",
    "from sklearn.naive_bayes import MultinomialNB\n",
    "from sklearn.pipeline import Pipeline\n",
    "from sklearn.feature_extraction.text import TfidfTransformer\n",
    "from sklearn.feature_extraction.text import TfidfVectorizer\n",
    "\n",
    "\n",
    "logreg_age = Pipeline([('vect', TfidfVectorizer()),\n",
    "                ('tfidf', TfidfTransformer()),\n",
    "                ('clf', LogisticRegression(n_jobs=2, C=1e5)),\n",
    "               ])\n",
    "logreg_gender = Pipeline([('vect', TfidfVectorizer()),\n",
    "                ('tfidf', TfidfTransformer()),\n",
    "                ('clf', LogisticRegression(n_jobs=2, C=1e5)),\n",
    "               ])\n",
    "\n",
    "logreg_age.fit(X_train, y_train_age)\n",
    "logreg_gender.fit(X_train, y_train_gender)\n",
    "y_pred_age = logreg_age.predict(X_test)\n",
    "y_pred_gender = logreg_gender.predict(X_test)\n",
    "\n",
    "print('accuracy age %s' % accuracy_score(y_pred_age, y_test_age))\n",
    "print('accuracy gender %s' % accuracy_score(y_pred_gender, y_test_gender))"
   ]
  },
  {
   "cell_type": "code",
   "execution_count": 10,
   "metadata": {},
   "outputs": [],
   "source": [
    "import pickle\n",
    "pickle.dump(logreg_age, open('model_age_2.pkl', 'wb'))"
   ]
  },
  {
   "cell_type": "code",
   "execution_count": 11,
   "metadata": {},
   "outputs": [],
   "source": [
    "import pickle\n",
    "pickle.dump(logreg_gender, open('model_gender_3.pkl', 'wb'))"
   ]
  },
  {
   "cell_type": "code",
   "execution_count": null,
   "metadata": {},
   "outputs": [],
   "source": []
  }
 ],
 "metadata": {
  "kernelspec": {
   "display_name": "Python 3",
   "language": "python",
   "name": "python3"
  },
  "language_info": {
   "codemirror_mode": {
    "name": "ipython",
    "version": 3
   },
   "file_extension": ".py",
   "mimetype": "text/x-python",
   "name": "python",
   "nbconvert_exporter": "python",
   "pygments_lexer": "ipython3",
   "version": "3.10.6"
  },
  "orig_nbformat": 4,
  "vscode": {
   "interpreter": {
    "hash": "31f2aee4e71d21fbe5cf8b01ff0e069b9275f58929596ceb00d14d90e3e16cd6"
   }
  }
 },
 "nbformat": 4,
 "nbformat_minor": 2
}
