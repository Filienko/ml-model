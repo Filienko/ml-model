{
 "cells": [
  {
   "cell_type": "code",
   "execution_count": 3,
   "metadata": {},
   "outputs": [],
   "source": [
    "import autokeras\n",
    "from autokeras import TextRegressor\n",
    "import tensorflow as tf\n",
    "import tensorflow_hub as hub\n",
    "import tensorflow_text as text\n",
    "import pysrt\n",
    "import re\n",
    "import tqdm\n",
    "import pandas as pd\n",
    "import logging\n",
    "from tqdm import tqdm\n",
    "text_reg = TextRegressor(overwrite=True, max_trials=1)\n",
    "\n"
   ]
  },
  {
   "cell_type": "code",
   "execution_count": 4,
   "metadata": {},
   "outputs": [],
   "source": [
    "def preprocess(message):\n",
    "    \"\"\"\n",
    "    This function takes a string as input, then performs these operations: \n",
    "        - lowercase\n",
    "        - remove URLs\n",
    "        - remove ticker symbols \n",
    "        - removes punctuation\n",
    "        - removes any single character tokens\n",
    "    Parameters\n",
    "    ----------\n",
    "        message : The text message to be preprocessed\n",
    "    Returns\n",
    "    -------\n",
    "        text: The preprocessed text\n",
    "    \"\"\" \n",
    "    # Lowercase the twit message\n",
    "    text = message.lower()\n",
    "    # Replace URLs with a space in the message\n",
    "    text = re.sub('https?:\\/\\/[a-zA-Z0-9@:%._\\/+~#=?&;-]*', ' ', text)\n",
    "    # Replace ticker symbols with a space. The ticker symbols are any stock symbol that starts with $.\n",
    "    text = re.sub('\\$[a-zA-Z0-9]*', ' ', text)\n",
    "    # Replace StockTwits usernames with a space. The usernames are any word that starts with @.\n",
    "    text = re.sub('\\@[a-zA-Z0-9]*', ' ', text)\n",
    "    # Replace everything not a letter or apostrophe with a space\n",
    "    text = re.sub('[^a-zA-Z\\']', ' ', text)\n",
    "    # Remove single letter words\n",
    "    text = ' '.join( [w for w in text.split() if len(w)>1] )\n",
    "    \n",
    "    return text\n",
    "        \n",
    "# Process for all messages\n",
    "df = pd.read_csv(r\"OCEAN.csv\",encoding='latin1')\n",
    "preprocessed = []\n",
    "for i in range(0,9499):\n",
    "    message = df['Content'].iloc[i]\n",
    "    processed_Text = preprocess(message)\n",
    "    df.loc[i, 'Content'] = processed_Text\n",
    "    preprocessed.append(str(processed_Text))\n"
   ]
  },
  {
   "cell_type": "code",
   "execution_count": 9,
   "metadata": {},
   "outputs": [
    {
     "name": "stderr",
     "output_type": "stream",
     "text": [
      "Some layers from the model checkpoint at bert-base-uncased were not used when initializing TFBertModel: ['nsp___cls', 'mlm___cls']\n",
      "- This IS expected if you are initializing TFBertModel from the checkpoint of a model trained on another task or with another architecture (e.g. initializing a BertForSequenceClassification model from a BertForPreTraining model).\n",
      "- This IS NOT expected if you are initializing TFBertModel from the checkpoint of a model that you expect to be exactly identical (initializing a BertForSequenceClassification model from a BertForSequenceClassification model).\n",
      "All the layers of TFBertModel were initialized from the model checkpoint at bert-base-uncased.\n",
      "If your task is similar to the task the model of the checkpoint was trained on, you can already use TFBertModel for predictions without further training.\n"
     ]
    },
    {
     "name": "stdout",
     "output_type": "stream",
     "text": [
      "Epoch 1/3\n",
      "535/535 [==============================] - 5788s 11s/step - loss: 680.3600 - val_loss: 0.7012\n",
      "Epoch 2/3\n",
      "535/535 [==============================] - 6003s 11s/step - loss: 1.1847 - val_loss: 9.3508\n",
      "Epoch 3/3\n",
      "535/535 [==============================] - 6329s 12s/step - loss: 4.3314 - val_loss: 3.0020\n"
     ]
    }
   ],
   "source": [
    "import pandas as pd\n",
    "import numpy as np\n",
    "import tensorflow as tf\n",
    "from transformers import BertTokenizer, TFBertModel\n",
    "from sklearn.model_selection import train_test_split\n",
    "\n",
    "# Split the data into features and target\n",
    "X = df['Content'] # assuming that the text data is stored in a column called 'text'\n",
    "y = df['ope'] # assuming that the target values are stored in a column called 'target'\n",
    "\n",
    "# Tokenize the text data using BERT tokenizer\n",
    "tokenizer = BertTokenizer.from_pretrained('bert-base-uncased')\n",
    "X_encoded = [tokenizer.encode(text, add_special_tokens=True, max_length=512, truncation=True) for text in X]\n",
    "X_padded = tf.keras.preprocessing.sequence.pad_sequences(X_encoded, padding='post', maxlen=512)\n",
    "\n",
    "# Split the data into training and testing sets\n",
    "X_train, X_test, y_train, y_test = train_test_split(X_padded, y, test_size=0.1)\n",
    "\n",
    "# Load the BERT model\n",
    "bert_model = TFBertModel.from_pretrained('bert-base-uncased')\n",
    "\n",
    "# Freeze the BERT layers to prevent them from being trained\n",
    "for layer in bert_model.layers:\n",
    "    layer.trainable = False\n",
    "\n",
    "# Build the neural network\n",
    "inputs = tf.keras.Input(shape=(512,), dtype='int32')\n",
    "embedding = bert_model(inputs)[0]\n",
    "flatten = tf.keras.layers.Flatten()(embedding)\n",
    "dense1 = tf.keras.layers.Dense(128, activation='relu')(flatten)\n",
    "dense2 = tf.keras.layers.Dense(64, activation='relu')(dense1)\n",
    "output = tf.keras.layers.Dense(1, activation='linear')(dense2)\n",
    "model = tf.keras.Model(inputs=inputs, outputs=output)\n",
    "\n",
    "# Compile the model\n",
    "model.compile(loss='mse', optimizer='adam')\n",
    "\n",
    "# Train the model\n",
    "history = model.fit(X_train, y_train, validation_data=(X_test, y_test), epochs=3, batch_size=16)\n"
   ]
  },
  {
   "cell_type": "code",
   "execution_count": 3,
   "metadata": {},
   "outputs": [
    {
     "ename": "NameError",
     "evalue": "name 'tokenizer' is not defined",
     "output_type": "error",
     "traceback": [
      "\u001b[0;31m---------------------------------------------------------------------------\u001b[0m",
      "\u001b[0;31mNameError\u001b[0m                                 Traceback (most recent call last)",
      "Cell \u001b[0;32mIn[3], line 3\u001b[0m\n\u001b[1;32m      1\u001b[0m \u001b[39m# Use the model to make predictions on new text data\u001b[39;00m\n\u001b[1;32m      2\u001b[0m new_text \u001b[39m=\u001b[39m [\u001b[39m'\u001b[39m\u001b[39mThis is a new text for prediction\u001b[39m\u001b[39m'\u001b[39m, \u001b[39m'\u001b[39m\u001b[39mAnother text to predict\u001b[39m\u001b[39m'\u001b[39m]\n\u001b[0;32m----> 3\u001b[0m new_text_encoded \u001b[39m=\u001b[39m [tokenizer\u001b[39m.\u001b[39mencode(text, add_special_tokens\u001b[39m=\u001b[39m\u001b[39mTrue\u001b[39;00m, max_length\u001b[39m=\u001b[39m\u001b[39m512\u001b[39m, truncation\u001b[39m=\u001b[39m\u001b[39mTrue\u001b[39;00m) \u001b[39mfor\u001b[39;00m text \u001b[39min\u001b[39;00m new_text]\n\u001b[1;32m      4\u001b[0m new_text_padded \u001b[39m=\u001b[39m tf\u001b[39m.\u001b[39mkeras\u001b[39m.\u001b[39mpreprocessing\u001b[39m.\u001b[39msequence\u001b[39m.\u001b[39mpad_sequences(new_text_encoded, padding\u001b[39m=\u001b[39m\u001b[39m'\u001b[39m\u001b[39mpost\u001b[39m\u001b[39m'\u001b[39m, maxlen\u001b[39m=\u001b[39m\u001b[39m512\u001b[39m)\n\u001b[1;32m      5\u001b[0m new_text_predictions \u001b[39m=\u001b[39m model\u001b[39m.\u001b[39mpredict(new_text_padded)\n",
      "Cell \u001b[0;32mIn[3], line 3\u001b[0m, in \u001b[0;36m<listcomp>\u001b[0;34m(.0)\u001b[0m\n\u001b[1;32m      1\u001b[0m \u001b[39m# Use the model to make predictions on new text data\u001b[39;00m\n\u001b[1;32m      2\u001b[0m new_text \u001b[39m=\u001b[39m [\u001b[39m'\u001b[39m\u001b[39mThis is a new text for prediction\u001b[39m\u001b[39m'\u001b[39m, \u001b[39m'\u001b[39m\u001b[39mAnother text to predict\u001b[39m\u001b[39m'\u001b[39m]\n\u001b[0;32m----> 3\u001b[0m new_text_encoded \u001b[39m=\u001b[39m [tokenizer\u001b[39m.\u001b[39mencode(text, add_special_tokens\u001b[39m=\u001b[39m\u001b[39mTrue\u001b[39;00m, max_length\u001b[39m=\u001b[39m\u001b[39m512\u001b[39m, truncation\u001b[39m=\u001b[39m\u001b[39mTrue\u001b[39;00m) \u001b[39mfor\u001b[39;00m text \u001b[39min\u001b[39;00m new_text]\n\u001b[1;32m      4\u001b[0m new_text_padded \u001b[39m=\u001b[39m tf\u001b[39m.\u001b[39mkeras\u001b[39m.\u001b[39mpreprocessing\u001b[39m.\u001b[39msequence\u001b[39m.\u001b[39mpad_sequences(new_text_encoded, padding\u001b[39m=\u001b[39m\u001b[39m'\u001b[39m\u001b[39mpost\u001b[39m\u001b[39m'\u001b[39m, maxlen\u001b[39m=\u001b[39m\u001b[39m512\u001b[39m)\n\u001b[1;32m      5\u001b[0m new_text_predictions \u001b[39m=\u001b[39m model\u001b[39m.\u001b[39mpredict(new_text_padded)\n",
      "\u001b[0;31mNameError\u001b[0m: name 'tokenizer' is not defined"
     ]
    }
   ],
   "source": [
    "\n",
    "# Use the model to make predictions on new text data\n",
    "new_text = ['This is a new text for prediction', 'Another text to predict']\n",
    "new_text_encoded = [tokenizer.encode(text, add_special_tokens=True, max_length=512, truncation=True) for text in new_text]\n",
    "new_text_padded = tf.keras.preprocessing.sequence.pad_sequences(new_text_encoded, padding='post', maxlen=512)\n",
    "new_text_predictions = model.predict(new_text_padded)\n",
    "print('Predictions for new text: {}'.format(new_text_predictions))\n"
   ]
  },
  {
   "cell_type": "code",
   "execution_count": 4,
   "metadata": {},
   "outputs": [
    {
     "ename": "NameError",
     "evalue": "name 'model' is not defined",
     "output_type": "error",
     "traceback": [
      "\u001b[0;31m---------------------------------------------------------------------------\u001b[0m",
      "\u001b[0;31mNameError\u001b[0m                                 Traceback (most recent call last)",
      "Cell \u001b[0;32mIn[4], line 2\u001b[0m\n\u001b[1;32m      1\u001b[0m \u001b[39mimport\u001b[39;00m \u001b[39mpickle\u001b[39;00m\n\u001b[0;32m----> 2\u001b[0m pickle\u001b[39m.\u001b[39mdump(model, \u001b[39mopen\u001b[39m(\u001b[39m'\u001b[39m\u001b[39mmodel_age_nn_bert.pkl\u001b[39m\u001b[39m'\u001b[39m, \u001b[39m'\u001b[39m\u001b[39mwb\u001b[39m\u001b[39m'\u001b[39m))\n",
      "\u001b[0;31mNameError\u001b[0m: name 'model' is not defined"
     ]
    }
   ],
   "source": [
    "import pickle\n",
    "pickle.dump(model, open('model_age_nn_bert.pkl', 'wb'))"
   ]
  },
  {
   "cell_type": "code",
   "execution_count": null,
   "metadata": {},
   "outputs": [],
   "source": [
    "pickled_model = pickle.load(open('model_age_nn_bert.pkl', 'rb'))\n"
   ]
  },
  {
   "cell_type": "code",
   "execution_count": null,
   "metadata": {},
   "outputs": [],
   "source": []
  }
 ],
 "metadata": {
  "kernelspec": {
   "display_name": "Python 3",
   "language": "python",
   "name": "python3"
  },
  "language_info": {
   "codemirror_mode": {
    "name": "ipython",
    "version": 3
   },
   "file_extension": ".py",
   "mimetype": "text/x-python",
   "name": "python",
   "nbconvert_exporter": "python",
   "pygments_lexer": "ipython3",
   "version": "3.10.6"
  },
  "orig_nbformat": 4,
  "vscode": {
   "interpreter": {
    "hash": "916dbcbb3f70747c44a77c7bcd40155683ae19c65e1c03b4aa3499c5328201f1"
   }
  }
 },
 "nbformat": 4,
 "nbformat_minor": 2
}
